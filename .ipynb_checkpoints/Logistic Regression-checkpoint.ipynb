{
 "cells": [
  {
   "cell_type": "markdown",
   "metadata": {},
   "source": [
    "## Introduction\n",
    "\n",
    "Logistic Regression is one of the most known and popular methods for conducting binary classification. In this part I have followed [this](http://kseow.com/logisticregression/) article that has great theoritical explanation. Using it's explanation I have programmed my own Logistic Regression algorithm. My goal is to compare it to the algorithm offered by scikit-learn.\n"
   ]
  },
  {
   "cell_type": "code",
   "execution_count": 1,
   "metadata": {},
   "outputs": [],
   "source": [
    "# Data analysis\n",
    "import numpy as np\n",
    "import pandas as pd\n",
    "import random as rnd\n",
    "\n",
    "# Data Visualization\n",
    "import matplotlib.pyplot as plt\n",
    "import seaborn as sns\n",
    "\n",
    "# Logistic Regression Import\n",
    "import math\n",
    "from sklearn.linear_model import LogisticRegression"
   ]
  },
  {
   "cell_type": "code",
   "execution_count": 2,
   "metadata": {},
   "outputs": [],
   "source": [
    "train_df = pd.read_csv(\"train.csv\")\n",
    "test_df = pd.read_csv(\"test.csv\")"
   ]
  },
  {
   "cell_type": "markdown",
   "metadata": {},
   "source": [
    "But first of all, I need to create a quick pipeline for the data to be ready for the algorithm. Basically, this is a code that does all the feature engineering described in the \"Data Exploration\" notebook."
   ]
  },
  {
   "cell_type": "code",
   "execution_count": 3,
   "metadata": {},
   "outputs": [],
   "source": [
    "# Removing PassengerId\n",
    "train_df = train_df.drop('PassengerId', axis=1)\n",
    "\n",
    "# Convering 'Name'\n",
    "name_df = train_df.Name.str.split(expand = True)\n",
    "train_df['Name'] = name_df[1]\n",
    "train_df.loc[(train_df['Name'] != 'Mr.') & (train_df['Name'] != 'Mrs.') & (train_df['Name'] != 'Miss.') & (train_df['Name'] != 'Master.'), 'Name'] = 'Other'\n",
    "\n",
    "# Converting 'Ticket'\n",
    "train_df['Ticket'] = train_df['Ticket'].map(train_df['Ticket'].value_counts()).astype('int64')\n",
    "\n",
    "# Converting 'Cabin'\n",
    "train_df['Cabin'] = train_df['Cabin'].notnull().astype('int64')\n",
    "\n",
    "# Remove missing values of 'Embarked'\n",
    "train_df = train_df[train_df.Embarked.notnull()]\n",
    "# Fill missing values with mean value\n",
    "train_df = train_df.fillna(train_df.Age.mean())\n",
    "\n",
    "# Encoding 'Sex' categorical data into a numeric columns\n",
    "train_df.loc[train_df.Sex == 'male', 'Sex'] = 0\n",
    "train_df.loc[train_df.Sex == 'female', 'Sex'] = 1\n",
    "train_df['Sex'].astype('int64')\n",
    "# Encoding 'Name' categorical data using 'One Hot' method - get_dummies in pandas\n",
    "train_df = pd.get_dummies(train_df, columns=['Embarked'], prefix = ['embarked'])\n",
    "train_df = pd.get_dummies(train_df, columns=['Name'], prefix = ['name'])\n",
    "\n",
    "# Transforming to 'FamilyTicket'\n",
    "train_df['FamilyTicket'] = train_df.apply(lambda row: (row.Parch + row.SibSp) / row.Ticket, axis=1)\n",
    "\n",
    "train_df = train_df.drop('Parch', axis=1)\n",
    "train_df = train_df.drop('SibSp', axis=1)\n",
    "train_df = train_df.drop('Ticket', axis=1)\n",
    "\n",
    "# Removing 'Sex' feature\n",
    "train_df = train_df.drop('Sex', axis=1)\n",
    "\n",
    "# Finding the PCA component for these three features\n",
    "from sklearn.preprocessing import StandardScaler\n",
    "x = train_df.loc[:, ['Pclass', 'Cabin', 'Fare']].values\n",
    "x = StandardScaler().fit_transform(x) # normalizing the features\n",
    "x = pd.DataFrame(x)\n",
    "from sklearn.decomposition import PCA\n",
    "pca_class_model = PCA(n_components=1)\n",
    "pca_class = pca_class_model.fit_transform(x)\n",
    "train_df['PCA_Class'] = pca_class\n",
    "\n",
    "train_df = train_df.drop('Cabin', axis=1)\n",
    "train_df = train_df.drop('Fare', axis=1)\n",
    "train_df = train_df.drop('Pclass', axis=1)\n",
    "\n",
    "# Re-Endocing Embarked\n",
    "train_df.loc[train_df.embarked_S == 1, 'embarked_C'] = '-1'\n",
    "\n",
    "train_df = train_df.rename(columns={'embarked_C': 'Embarked'})\n",
    "train_df = train_df.drop('embarked_Q', axis=1)\n",
    "train_df = train_df.drop('embarked_S', axis=1)\n",
    "\n",
    "train_df['Embarked'] = pd.to_numeric(train_df.Embarked)\n"
   ]
  },
  {
   "cell_type": "markdown",
   "metadata": {},
   "source": [
    "Now I need to normalize all values to be in the segment [-1,1] so that the model will have equal influence by each feature. Afterward I will split the dependant variable from the features."
   ]
  },
  {
   "cell_type": "code",
   "execution_count": 4,
   "metadata": {},
   "outputs": [],
   "source": [
    "# Splitting to features and dependant variable\n",
    "X = train_df.drop('Survived', 1)\n",
    "y = train_df.Survived\n",
    "\n",
    "# Scaling Features\n",
    "from sklearn.preprocessing import MinMaxScaler\n",
    "scaler = MinMaxScaler(feature_range=(-1, 1))\n",
    "X = pd.DataFrame(scaler.fit_transform(X))\n"
   ]
  },
  {
   "cell_type": "markdown",
   "metadata": {},
   "source": [
    "# My Logistic Regression Model\n",
    "Now I have to build functions to implement the logistic regression.\n",
    "Basically, a logistic regression is a function that finds linear disrimininant function that is represented as a linear combination of all the features. This function is then queezed into a sigmoid function which generates the aposteriori probability of each sample to belong to the class. If the probability is higher than 50% then we'll classify the sample as a part of the class (y=1), otherwise we will say that it doesn't belong to the class (y=0). The goal of the learning process is to find the perfect weights of each feature so it will be the best discriminator.\n",
    "\n",
    "### Calculate Sigmoid Value\n",
    "That function calculates the value of the sigomid function. It gets vectors of weights and a vector of features, and returns a vector of probabilities. Each element in the output vector represents the chance that the specific sample belongs to the class."
   ]
  },
  {
   "cell_type": "code",
   "execution_count": 5,
   "metadata": {},
   "outputs": [],
   "source": [
    "def calculate_sigmoid_value(features, weights):\n",
    "    p_of_y = []\n",
    "    for i in features.index:\n",
    "        dot_result = np.dot(features.loc[i], weights)\n",
    "        p_of_y.append(math.exp(dot_result) / (1 + math.exp(dot_result)))\n",
    "    return p_of_y"
   ]
  },
  {
   "attachments": {
    "image.png": {
     "image/png": "[encoded data removed]"
    }
   },
   "cell_type": "markdown",
   "metadata": {},
   "source": [
    "### Calculate Cost Function Value\n",
    "As described in the article, our cost function should take into account that there is an exponential ratio between changing weights and changing the probabilities of the samples. Therefore, the cost function will be as following:\n",
    "\n",
    "![image.png](attachment:image.png)\n",
    "\n",
    "The function gets all the required parameters for calculations, and returns the sum of the cost function for all the samples combined. The goal of the learning process is to minimize that value."
   ]
  },
  {
   "cell_type": "code",
   "execution_count": 6,
   "metadata": {},
   "outputs": [],
   "source": [
    "def calculate_cost_function_value(p_of_y, y, weights):\n",
    "    y_sum = 0\n",
    "    i = 0\n",
    "    for y_sample in y:\n",
    "        y_sum = y_sum - y_sample*math.log(p_of_y[i]) - (1-y_sample)*math.log(1-p_of_y[i])\n",
    "        i = i +1\n",
    "    y_sum = y_sum / len(y)    \n",
    "   # print(y_sum)\n",
    "    return (y_sum)    "
   ]
  },
  {
   "cell_type": "markdown",
   "metadata": {},
   "source": [
    "### Gradient Descent\n",
    "\n",
    "The learning process will happen using gradient descent algorithm. It is well explained in the article how this algorithm able to find the minimum points of the cost function. My function is taking a small step each time towards that point, and then generates new weights vector and returns it."
   ]
  },
  {
   "cell_type": "code",
   "execution_count": 7,
   "metadata": {},
   "outputs": [],
   "source": [
    "def gradient_descent(weights, learning_rate, features, y, p_of_y):\n",
    "    new_weights=[]\n",
    "   \n",
    "    for w in range(0,len(weights)):\n",
    "        sum_of_error = np.dot(p_of_y-y, features.iloc[:,w])\n",
    "        new_weights.append(weights[w]-learning_rate*sum_of_error)\n",
    "    return new_weights"
   ]
  },
  {
   "cell_type": "markdown",
   "metadata": {},
   "source": [
    "### Learn\n",
    "This is the function that is responsible for the learning process. I have decided to run 100 iterations before returning the weights vector, which is the result of our learning process. I have also returned a vector which contains the values of the cost function in each iteration, so I will be able to plot it over time. "
   ]
  },
  {
   "cell_type": "code",
   "execution_count": 8,
   "metadata": {},
   "outputs": [],
   "source": [
    "def learn(weights, features,y):\n",
    "    Costs = []\n",
    "    new_weights = weights\n",
    "    for i in range(0,100):\n",
    "        p_of_y = calculate_sigmoid_value(features,new_weights)\n",
    "        Costs.append(calculate_cost_function_value(p_of_y,y,new_weights))\n",
    "        new_weights = gradient_descent(new_weights,0.001,features,y,p_of_y)\n",
    "    return new_weights, Costs    "
   ]
  },
  {
   "cell_type": "markdown",
   "metadata": {},
   "source": [
    "### Predict\n",
    "\n",
    "This function calculates the value of the sigmoid function for each sample, and then translates it into a binary prediction for each sample, based on the decision rule previously described."
   ]
  },
  {
   "cell_type": "code",
   "execution_count": 9,
   "metadata": {},
   "outputs": [],
   "source": [
    "def predict(x_values, weights):\n",
    "    class_predictions = []\n",
    "    prob_predictions = calculate_sigmoid_value(x_values, weights)\n",
    "    for prob in prob_predictions:\n",
    "        if prob > 0.5:\n",
    "            class_predictions.append(1)\n",
    "        else:\n",
    "            class_predictions.append(0)\n",
    "    return class_predictions        "
   ]
  },
  {
   "cell_type": "markdown",
   "metadata": {},
   "source": [
    "Now I am ready to run my algorithm. Since I want to compare the results of the algorithm to another algorithms, I have decided to use 10-Fold Cross Validation. At the end of the process I am printing the accuracy rate of the model on the test data."
   ]
  },
  {
   "cell_type": "code",
   "execution_count": null,
   "metadata": {},
   "outputs": [],
   "source": [
    "from sklearn.model_selection import KFold\n",
    "accuracy_rates = []\n",
    "cv = KFold(n_splits=10, random_state=42, shuffle=False)\n",
    "for train_index, test_index in cv.split(X):\n",
    "    # The initial vector of weights should be zero.\n",
    "    weights = [0] * len(X.columns)\n",
    "    X_train, X_test = X.iloc[train_index], X.iloc[test_index]\n",
    "    y_train, y_test = y.iloc[train_index], y.iloc[test_index]\n",
    "    new_weights, costs = learn(weights, X_train, y_train)\n",
    "    y_values_train = predict(X_test, new_weights)\n",
    "    diff = y_values_train - y_test\n",
    "    accuracy_rates.append(1.0 - (float(np.count_nonzero(diff)) / len(diff)))\n",
    "print(accuracy_rates)\n"
   ]
  },
  {
   "cell_type": "code",
   "execution_count": null,
   "metadata": {},
   "outputs": [],
   "source": [
    "x = []\n",
    "for i in range(0,10):\n",
    "    x.append(i)\n",
    "sns.lineplot(x=x, y=accuracy_rates)"
   ]
  },
  {
   "cell_type": "code",
   "execution_count": null,
   "metadata": {},
   "outputs": [],
   "source": [
    "from statistics import mean\n",
    "print(\"The average accuracy rate is: \" +str(mean(accuracy_rates)))"
   ]
  },
  {
   "cell_type": "markdown",
   "metadata": {},
   "source": [
    "### Summary - My Logistic Regression\n",
    "\n",
    "We can see that my algorithm took quite a lot of time to run. As to the accuracy rates, there was quite a large variance between the different folds, where the lowest would be 0.74 and the highest is 0.865. The average rate is not bad - 0.793 percent. "
   ]
  },
  {
   "cell_type": "markdown",
   "metadata": {},
   "source": [
    "# SciKit-learn Logistic Regression\n",
    "\n",
    "Now I'm gonna run logistic regression as available in the popular scikit-learn package."
   ]
  },
  {
   "cell_type": "code",
   "execution_count": null,
   "metadata": {},
   "outputs": [],
   "source": [
    "from sklearn.model_selection import KFold\n",
    "scikit_accuracy_rates = []\n",
    "cv = KFold(n_splits=10, random_state=42, shuffle=False)\n",
    "logmodel = LogisticRegression()\n",
    "\n",
    "for train_index, test_index in cv.split(X):\n",
    "    # The initial vector of weights should be zero.\n",
    "    weights = [0] * len(X.columns)\n",
    "    X_train, X_test = X.iloc[train_index], X.iloc[test_index]\n",
    "    y_train, y_test = y.iloc[train_index], y.iloc[test_index]\n",
    "    logmodel.fit(X_train, y_train)\n",
    "   # iter_list=[]\n",
    "   # for i in range(0,100):\n",
    "   #     iter_list.append(i)    \n",
    "   # sns.lineplot(x=iter_list, y=costs)\n",
    "    y_values_train = logmodel.predict(X_test)\n",
    "    diff = y_values_train - y_test\n",
    "    scikit_accuracy_rates.append(1.0 - (float(np.count_nonzero(diff)) / len(diff)))\n",
    "print(scikit_accuracy_rates)\n"
   ]
  },
  {
   "cell_type": "code",
   "execution_count": null,
   "metadata": {},
   "outputs": [],
   "source": [
    "x = []\n",
    "for i in range(0,10):\n",
    "    x.append(i)\n",
    "sns.lineplot(x=x, y=scikit_accuracy_rates)\n",
    "\n",
    "from statistics import mean\n",
    "print(\"The average accuracy rate is: \" +str(mean(scikit_accuracy_rates)))"
   ]
  },
  {
   "cell_type": "markdown",
   "metadata": {},
   "source": [
    "## Summary\n",
    "\n",
    "In a somewhat surprising manner, while being extensively inferior in terms of performance, my logistic regression got slightly better results than scikit-learn's one. \n",
    "The main difference between the two models is that Scikit's model uses a penalty function that tries to avoid multicolinearity. The default penalty function is \"L2\" which is also known as <b>Ridge Regression</b>. That means that the model adds the \"squared magnitude\" of coefficient as penalty term to the loss function. \n",
    "\n",
    "To some extent, I have already took care of the model regularization since I have extraced the main PCA component. \n",
    "Let's try and tweek some parameters in the model, and hopefully we'll be able to come up with improved results.\n"
   ]
  },
  {
   "cell_type": "code",
   "execution_count": 91,
   "metadata": {},
   "outputs": [
    {
     "name": "stdout",
     "output_type": "stream",
     "text": [
      "[0.752808988764045, 0.8426966292134832, 0.7752808988764045, 0.7865168539325843, 0.7865168539325843, 0.797752808988764, 0.7191011235955056, 0.752808988764045, 0.8426966292134832, 0.8522727272727273]\n"
     ]
    }
   ],
   "source": [
    "from sklearn.model_selection import KFold\n",
    "scikit_accuracy_rates_2 = []\n",
    "cv = KFold(n_splits=10, random_state=42, shuffle=False)\n",
    "probabilities = {0: 0.676, 1: 0.324}\n",
    "# Creating a dictionary to the aposteriori probabilities\n",
    "logmodel = LogisticRegression(penalty='none', class_weight=probabilities, solver='saga')\n",
    "\n",
    "for train_index, test_index in cv.split(X):\n",
    "    # The initial vector of weights should be zero.\n",
    "    weights = [0] * len(X.columns)\n",
    "    X_train, X_test = X.iloc[train_index], X.iloc[test_index]\n",
    "    y_train, y_test = y.iloc[train_index], y.iloc[test_index]\n",
    "    logmodel.fit(X_train, y_train)\n",
    "   # iter_list=[]\n",
    "   # for i in range(0,100):\n",
    "   #     iter_list.append(i)    \n",
    "   # sns.lineplot(x=iter_list, y=costs)\n",
    "    y_values_train = logmodel.predict(X_test)\n",
    "    diff = y_values_train - y_test\n",
    "    scikit_accuracy_rates_2.append(1.0 - (float(np.count_nonzero(diff)) / len(diff)))\n",
    "print(scikit_accuracy_rates_2)"
   ]
  },
  {
   "cell_type": "code",
   "execution_count": 92,
   "metadata": {},
   "outputs": [
    {
     "name": "stdout",
     "output_type": "stream",
     "text": [
      "The average accuracy rate is: 0.7908452502553627\n"
     ]
    },
    {
     "data": {
      "image/png": "[encoded data removed]",
      "text/plain": [
       "<Figure size 432x288 with 1 Axes>"
      ]
     },
     "metadata": {
      "needs_background": "light"
     },
     "output_type": "display_data"
    }
   ],
   "source": [
    "x = []\n",
    "for i in range(0,10):\n",
    "    x.append(i)\n",
    "sns.lineplot(x=x, y=scikit_accuracy_rates_2)\n",
    "\n",
    "from statistics import mean\n",
    "print(\"The average accuracy rate is: \" +str(mean(scikit_accuracy_rates_2)))"
   ]
  },
  {
   "cell_type": "markdown",
   "metadata": {},
   "source": [
    "In this new model I have removed the regularization factor. The default solver - \"liblinear\" does not support running the regression with no regularization, therefore I have changed the solver to be \"saga\". That means that I have changed the learning algorithm accordingly.\n",
    "\n",
    "<b>liblinear</b> is a learning algorithm based on a library with the same name that was first introduced in 2008. It supports large scale linear classification. When using it with Ridge Regression penalty factor, it operates a learning algorithm called [\"Trust Region Newton Method\"](https://www.csie.ntu.edu.tw/~cjlin/papers/logistic.pdf).\n",
    "\n",
    "<b>saga</b>, on the other hand, is based on [\"Stochastic Average Gradient\"](https://www.cs.ubc.ca/~schmidtm/Courses/540-W18/L11.pdf) learning method. According to Scikit Documentation: The SAGA solver is often the best choice.\n",
    "\n",
    "I have also created a dictionary to feed the algorithm with the aposteriori probabilities of the classes, since it is already known.\n",
    "\n",
    "Those changes gained a slight improvement, as this regression is still inferior compared to mine."
   ]
  },
  {
   "cell_type": "code",
   "execution_count": 181,
   "metadata": {},
   "outputs": [
    {
     "name": "stdout",
     "output_type": "stream",
     "text": [
      "0.8035714285714286\n",
      "              precision    recall  f1-score   support\n",
      "\n",
      "           0       0.84      0.82      0.83        98\n",
      "           1       0.75      0.79      0.77        70\n",
      "\n",
      "    accuracy                           0.80       168\n",
      "   macro avg       0.80      0.80      0.80       168\n",
      "weighted avg       0.81      0.80      0.80       168\n",
      "\n"
     ]
    }
   ],
   "source": [
    "\n",
    "from sklearn.metrics import classification_report\n",
    "print(classification_report(y_test, predictions))"
   ]
  },
  {
   "cell_type": "code",
   "execution_count": 494,
   "metadata": {},
   "outputs": [],
   "source": [
    "# Pipeline for test data\n",
    "\n",
    "submit_df = test_df[['PassengerId', 'Pclass', 'Sex', 'Age', 'SibSp', 'Parch', 'Fare', 'Embarked']]\n",
    "\n",
    "# Fill missing data\n",
    "submit_df = submit_df.fillna(submit_df.Age.mean())\n",
    "\n",
    "# Encoding 'Sex' categorical data into a numeric columns\n",
    "submit_df.loc[submit_df.Sex == 'male', 'Sex'] = 0\n",
    "submit_df.loc[submit_df.Sex == 'female', 'Sex'] = 1\n",
    "submit_df['Sex'].astype('int64')\n",
    "# Encoding 'Embarked' categorical data using 'One Hot' method - get_dummies in pandas\n",
    "submit_df = pd.get_dummies(submit_df, columns=['Embarked'], prefix = ['embarked'])\n",
    "# submit_df['family'] = submit_df.apply(lambda row: row.Parch / (row.SibSp + row.Age + 1), axis=1)\n",
    "\n",
    "df_for_model = submit_df[['PassengerId', 'Pclass', 'Sex', 'Parch', 'SibSp', 'Age', 'Fare', 'embarked_C', 'embarked_Q', 'embarked_S']]\n",
    "x_test = df_for_model.values #returns a numpy array\n",
    "\n",
    "# Scaling\n",
    "from sklearn import preprocessing\n",
    "min_max_scaler = preprocessing.MinMaxScaler()\n",
    "x_test_scaled = min_max_scaler.fit_transform(x_test)\n",
    "x_test_scaled = pd.DataFrame(x_test_scaled)"
   ]
  },
  {
   "cell_type": "code",
   "execution_count": 495,
   "metadata": {},
   "outputs": [],
   "source": [
    "y_test = predict(x_test_scaled, new_weights)\n",
    "submission = pd.DataFrame({\n",
    "        \"PassengerId\": test_df[\"PassengerId\"],\n",
    "        \"Survived\": y_test\n",
    "    })\n",
    "submission.to_csv('submission.csv', index=False)"
   ]
  },
  {
   "cell_type": "code",
   "execution_count": 182,
   "metadata": {},
   "outputs": [],
   "source": [
    "# Pipeline for test data\n",
    "\n",
    "submit_df = test_df[['PassengerId', 'Pclass', 'Sex', 'Age', 'SibSp', 'Parch', 'Fare', 'Embarked']]\n",
    "\n",
    "# Fill missing data\n",
    "submit_df = submit_df.fillna(submit_df.Age.mean())\n",
    "\n",
    "# Encoding 'Sex' categorical data into a numeric columns\n",
    "submit_df.loc[submit_df.Sex == 'male', 'Sex'] = 0\n",
    "submit_df.loc[submit_df.Sex == 'female', 'Sex'] = 1\n",
    "submit_df['Sex'].astype('int64')\n",
    "# Encoding 'Embarked' categorical data using 'One Hot' method - get_dummies in pandas\n",
    "submit_df = pd.get_dummies(submit_df, columns=['Embarked'], prefix = ['embarked'])\n",
    "submit_df['family'] = submit_df.apply(lambda row: row.Parch / (row.SibSp + row.Age + 1), axis=1)\n",
    "\n",
    "df_for_model = submit_df[['PassengerId', 'Pclass', 'Sex', 'family', 'Fare', 'embarked_C', 'embarked_Q', 'embarked_S']]\n",
    "x_test = df_for_model.values #returns a numpy array\n",
    "\n",
    "# Scaling\n",
    "from sklearn import preprocessing\n",
    "min_max_scaler = preprocessing.MinMaxScaler()\n",
    "x_test_scaled = min_max_scaler.fit_transform(x_test)\n",
    "x_test_scaled = pd.DataFrame(x_test_scaled)"
   ]
  },
  {
   "cell_type": "code",
   "execution_count": 183,
   "metadata": {},
   "outputs": [
    {
     "ename": "ValueError",
     "evalue": "X has 8 features per sample; expecting 5",
     "output_type": "error",
     "traceback": [
      "\u001b[1;31m---------------------------------------------------------------------------\u001b[0m",
      "\u001b[1;31mValueError\u001b[0m                                Traceback (most recent call last)",
      "\u001b[1;32m<ipython-input-183-e51371d44bd9>\u001b[0m in \u001b[0;36m<module>\u001b[1;34m\u001b[0m\n\u001b[1;32m----> 1\u001b[1;33m \u001b[0my_test\u001b[0m \u001b[1;33m=\u001b[0m \u001b[0mlogmodel\u001b[0m\u001b[1;33m.\u001b[0m\u001b[0mpredict\u001b[0m\u001b[1;33m(\u001b[0m\u001b[0mx_test_scaled\u001b[0m\u001b[1;33m)\u001b[0m\u001b[1;33m\u001b[0m\u001b[0m\n\u001b[0m",
      "\u001b[1;32mc:\\users\\tomha\\appdata\\local\\programs\\python\\python36-32\\lib\\site-packages\\sklearn\\linear_model\\base.py\u001b[0m in \u001b[0;36mpredict\u001b[1;34m(self, X)\u001b[0m\n\u001b[0;32m    287\u001b[0m             \u001b[0mPredicted\u001b[0m \u001b[1;32mclass\u001b[0m \u001b[0mlabel\u001b[0m \u001b[0mper\u001b[0m \u001b[0msample\u001b[0m\u001b[1;33m.\u001b[0m\u001b[1;33m\u001b[0m\u001b[0m\n\u001b[0;32m    288\u001b[0m         \"\"\"\n\u001b[1;32m--> 289\u001b[1;33m         \u001b[0mscores\u001b[0m \u001b[1;33m=\u001b[0m \u001b[0mself\u001b[0m\u001b[1;33m.\u001b[0m\u001b[0mdecision_function\u001b[0m\u001b[1;33m(\u001b[0m\u001b[0mX\u001b[0m\u001b[1;33m)\u001b[0m\u001b[1;33m\u001b[0m\u001b[0m\n\u001b[0m\u001b[0;32m    290\u001b[0m         \u001b[1;32mif\u001b[0m \u001b[0mlen\u001b[0m\u001b[1;33m(\u001b[0m\u001b[0mscores\u001b[0m\u001b[1;33m.\u001b[0m\u001b[0mshape\u001b[0m\u001b[1;33m)\u001b[0m \u001b[1;33m==\u001b[0m \u001b[1;36m1\u001b[0m\u001b[1;33m:\u001b[0m\u001b[1;33m\u001b[0m\u001b[0m\n\u001b[0;32m    291\u001b[0m             \u001b[0mindices\u001b[0m \u001b[1;33m=\u001b[0m \u001b[1;33m(\u001b[0m\u001b[0mscores\u001b[0m \u001b[1;33m>\u001b[0m \u001b[1;36m0\u001b[0m\u001b[1;33m)\u001b[0m\u001b[1;33m.\u001b[0m\u001b[0mastype\u001b[0m\u001b[1;33m(\u001b[0m\u001b[0mnp\u001b[0m\u001b[1;33m.\u001b[0m\u001b[0mint\u001b[0m\u001b[1;33m)\u001b[0m\u001b[1;33m\u001b[0m\u001b[0m\n",
      "\u001b[1;32mc:\\users\\tomha\\appdata\\local\\programs\\python\\python36-32\\lib\\site-packages\\sklearn\\linear_model\\base.py\u001b[0m in \u001b[0;36mdecision_function\u001b[1;34m(self, X)\u001b[0m\n\u001b[0;32m    268\u001b[0m         \u001b[1;32mif\u001b[0m \u001b[0mX\u001b[0m\u001b[1;33m.\u001b[0m\u001b[0mshape\u001b[0m\u001b[1;33m[\u001b[0m\u001b[1;36m1\u001b[0m\u001b[1;33m]\u001b[0m \u001b[1;33m!=\u001b[0m \u001b[0mn_features\u001b[0m\u001b[1;33m:\u001b[0m\u001b[1;33m\u001b[0m\u001b[0m\n\u001b[0;32m    269\u001b[0m             raise ValueError(\"X has %d features per sample; expecting %d\"\n\u001b[1;32m--> 270\u001b[1;33m                              % (X.shape[1], n_features))\n\u001b[0m\u001b[0;32m    271\u001b[0m \u001b[1;33m\u001b[0m\u001b[0m\n\u001b[0;32m    272\u001b[0m         scores = safe_sparse_dot(X, self.coef_.T,\n",
      "\u001b[1;31mValueError\u001b[0m: X has 8 features per sample; expecting 5"
     ]
    }
   ],
   "source": [
    "y_test = logmodel.predict(x_test_scaled)"
   ]
  },
  {
   "cell_type": "code",
   "execution_count": 184,
   "metadata": {},
   "outputs": [],
   "source": [
    "submission = pd.DataFrame({\n",
    "        \"PassengerId\": test_df[\"PassengerId\"],\n",
    "        \"Survived\": y_test\n",
    "    })\n",
    "submission.to_csv('submission.csv', index=False)"
   ]
  },
  {
   "cell_type": "code",
   "execution_count": null,
   "metadata": {},
   "outputs": [],
   "source": []
  }
 ],
 "metadata": {
  "kernelspec": {
   "display_name": "Python 3",
   "language": "python",
   "name": "python3"
  },
  "language_info": {
   "codemirror_mode": {
    "name": "ipython",
    "version": 3
   },
   "file_extension": ".py",
   "mimetype": "text/x-python",
   "name": "python",
   "nbconvert_exporter": "python",
   "pygments_lexer": "ipython3",
   "version": "3.6.4"
  }
 },
 "nbformat": 4,
 "nbformat_minor": 2
}
