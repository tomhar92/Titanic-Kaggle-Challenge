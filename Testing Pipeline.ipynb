{
 "cells": [
  {
   "cell_type": "markdown",
   "metadata": {},
   "source": [
    "## Introduction\n",
    "\n",
    "I chose to submit my solution using the polynomial SVC with the parameter C = 4"
   ]
  },
  {
   "cell_type": "code",
   "execution_count": 37,
   "metadata": {},
   "outputs": [],
   "source": [
    "# Data analysis\n",
    "import numpy as np\n",
    "import pandas as pd\n",
    "import random as rnd\n",
    "from statistics import mean\n",
    "import math\n",
    "\n",
    "# Data Visualization\n",
    "import matplotlib.pyplot as plt\n",
    "import seaborn as sns\n",
    "\n",
    "# Support Vector Classifier\n",
    "from sklearn.svm import SVC"
   ]
  },
  {
   "cell_type": "code",
   "execution_count": 38,
   "metadata": {},
   "outputs": [],
   "source": [
    "train_df = pd.read_csv(\"train.csv\")\n",
    "test_df = pd.read_csv(\"test.csv\")"
   ]
  },
  {
   "cell_type": "code",
   "execution_count": 39,
   "metadata": {},
   "outputs": [],
   "source": [
    "# Removing PassengerId\n",
    "train_df = train_df.drop('PassengerId', axis=1)\n",
    "\n",
    "# Convering 'Name'\n",
    "name_df = train_df.Name.str.split(expand = True)\n",
    "train_df['Name'] = name_df[1]\n",
    "train_df.loc[(train_df['Name'] != 'Mr.') & (train_df['Name'] != 'Mrs.') & (train_df['Name'] != 'Miss.') & (train_df['Name'] != 'Master.'), 'Name'] = 'Other'\n",
    "\n",
    "# Converting 'Ticket'\n",
    "train_df['Ticket'] = train_df['Ticket'].map(train_df['Ticket'].value_counts()).astype('int64')\n",
    "\n",
    "# Converting 'Cabin'\n",
    "train_df['Cabin'] = train_df['Cabin'].notnull().astype('int64')\n",
    "\n",
    "# Remove missing values of 'Embarked'\n",
    "train_df = train_df[train_df.Embarked.notnull()]\n",
    "# Fill missing values with mean value\n",
    "train_df = train_df.fillna(train_df.Age.mean())\n",
    "\n",
    "# Encoding 'Sex' categorical data into a numeric columns\n",
    "train_df.loc[train_df.Sex == 'male', 'Sex'] = 0\n",
    "train_df.loc[train_df.Sex == 'female', 'Sex'] = 1\n",
    "train_df['Sex'].astype('int64')\n",
    "# Encoding 'Name' categorical data using 'One Hot' method - get_dummies in pandas\n",
    "train_df = pd.get_dummies(train_df, columns=['Embarked'], prefix = ['embarked'])\n",
    "train_df = pd.get_dummies(train_df, columns=['Name'], prefix = ['name'])\n",
    "\n"
   ]
  },
  {
   "cell_type": "code",
   "execution_count": 40,
   "metadata": {},
   "outputs": [],
   "source": [
    "# Splitting to features and dependant variable\n",
    "X = train_df.drop('Survived', 1)\n",
    "y = train_df.Survived\n",
    "\n",
    "# Scaling Features\n",
    "from sklearn.preprocessing import MinMaxScaler\n",
    "scaler = MinMaxScaler(feature_range=(-1, 1))\n",
    "X = pd.DataFrame(scaler.fit_transform(X))"
   ]
  },
  {
   "cell_type": "markdown",
   "metadata": {},
   "source": [
    "### Training model"
   ]
  },
  {
   "cell_type": "code",
   "execution_count": 41,
   "metadata": {},
   "outputs": [
    {
     "name": "stderr",
     "output_type": "stream",
     "text": [
      "c:\\users\\tomha\\appdata\\local\\programs\\python\\python36-32\\lib\\site-packages\\sklearn\\svm\\base.py:193: FutureWarning: The default value of gamma will change from 'auto' to 'scale' in version 0.22 to account better for unscaled features. Set gamma explicitly to 'auto' or 'scale' to avoid this warning.\n",
      "  \"avoid this warning.\", FutureWarning)\n"
     ]
    },
    {
     "data": {
      "text/plain": [
       "SVC(C=4, cache_size=200, class_weight={0: 0.676, 1: 0.324}, coef0=0.0,\n",
       "    decision_function_shape='ovr', degree=3, gamma='auto_deprecated',\n",
       "    kernel='poly', max_iter=-1, probability=False, random_state=None,\n",
       "    shrinking=True, tol=0.001, verbose=False)"
      ]
     },
     "execution_count": 41,
     "metadata": {},
     "output_type": "execute_result"
    }
   ],
   "source": [
    "probabilities = {0: 0.676, 1: 0.324}\n",
    "poly_SVC = SVC(kernel=\"poly\", C=4, class_weight=probabilities)\n",
    "poly_SVC.fit(X,y)\n",
    "\n"
   ]
  },
  {
   "cell_type": "markdown",
   "metadata": {},
   "source": [
    "### Test Pipeline"
   ]
  },
  {
   "cell_type": "code",
   "execution_count": 43,
   "metadata": {},
   "outputs": [],
   "source": [
    "# Removing PassengerId\n",
    "test_df = test_df.drop('PassengerId', axis=1)\n",
    "\n",
    "# Convering 'Name'\n",
    "name_df = test_df.Name.str.split(expand = True)\n",
    "test_df['Name'] = name_df[1]\n",
    "test_df.loc[(test_df['Name'] != 'Mr.') & (test_df['Name'] != 'Mrs.') & (test_df['Name'] != 'Miss.') & (test_df['Name'] != 'Master.'), 'Name'] = 'Other'\n",
    "\n",
    "# Converting 'Ticket'\n",
    "test_df['Ticket'] = test_df['Ticket'].map(test_df['Ticket'].value_counts()).astype('int64')\n",
    "\n",
    "# Converting 'Cabin'\n",
    "test_df['Cabin'] = test_df['Cabin'].notnull().astype('int64')\n",
    "\n",
    "# Remove missing values of 'Embarked'\n",
    "test_df = test_df[test_df.Embarked.notnull()]\n",
    "# Fill missing values with mean value\n",
    "test_df = test_df.fillna(test_df.Age.mean())\n",
    "\n",
    "# Encoding 'Sex' categorical data into a numeric columns\n",
    "test_df.loc[test_df.Sex == 'male', 'Sex'] = 0\n",
    "test_df.loc[test_df.Sex == 'female', 'Sex'] = 1\n",
    "test_df['Sex'].astype('int64')\n",
    "# Encoding 'Name' categorical data using 'One Hot' method - get_dummies in pandas\n",
    "test_df = pd.get_dummies(test_df, columns=['Embarked'], prefix = ['embarked'])\n",
    "test_df = pd.get_dummies(test_df, columns=['Name'], prefix = ['name'])\n",
    "\n",
    "# Fill all missing values with mean value of each column\n",
    "test_df = test_df.fillna(test_df.mean())\n",
    "    "
   ]
  },
  {
   "cell_type": "markdown",
   "metadata": {},
   "source": [
    "### Generating Predictions"
   ]
  },
  {
   "cell_type": "code",
   "execution_count": 44,
   "metadata": {},
   "outputs": [],
   "source": [
    "predictions = poly_SVC.predict(test_df)"
   ]
  },
  {
   "cell_type": "code",
   "execution_count": 45,
   "metadata": {},
   "outputs": [],
   "source": [
    "submission = pd.DataFrame({\n",
    "        \"PassengerId\": pd.read_csv(\"test.csv\")[\"PassengerId\"],\n",
    "        \"Survived\": predictions\n",
    "    })\n",
    "submission.to_csv('submission.csv', index=False)"
   ]
  }
 ],
 "metadata": {
  "kernelspec": {
   "display_name": "Python 3",
   "language": "python",
   "name": "python3"
  },
  "language_info": {
   "codemirror_mode": {
    "name": "ipython",
    "version": 3
   },
   "file_extension": ".py",
   "mimetype": "text/x-python",
   "name": "python",
   "nbconvert_exporter": "python",
   "pygments_lexer": "ipython3",
   "version": "3.6.4"
  }
 },
 "nbformat": 4,
 "nbformat_minor": 2
}
